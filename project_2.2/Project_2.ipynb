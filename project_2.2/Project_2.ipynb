{
  "cells": [
    {
      "cell_type": "markdown",
      "id": "42289889-bd57-434e-9637-d3e354756316",
      "metadata": {
        "id": "42289889-bd57-434e-9637-d3e354756316"
      },
      "source": [
        "<center> <img src = https://raw.githubusercontent.com/AndreyRysistov/DatasetsForPandas/main/hh%20label.jpg alt=\"drawing\" style=\"width:400px;\">"
      ]
    },
    {
      "cell_type": "markdown",
      "id": "829cb75b-f14e-4ba8-9195-7ba929a7d656",
      "metadata": {
        "id": "829cb75b-f14e-4ba8-9195-7ba929a7d656",
        "tags": []
      },
      "source": [
        "# <center> Проект: Анализ вакансий из HeadHunter\n",
        "   "
      ]
    },
    {
      "cell_type": "code",
      "execution_count": 67,
      "id": "dccfde33-2452-43fb-a8a5-5c6ebc02a71d",
      "metadata": {
        "id": "dccfde33-2452-43fb-a8a5-5c6ebc02a71d"
      },
      "outputs": [],
      "source": [
        "import pandas as pd  \n",
        "import psycopg2\n",
        "import requests\n",
        "from bs4 import BeautifulSoup"
      ]
    },
    {
      "cell_type": "code",
      "execution_count": 68,
      "id": "oVKH4ehvf8Ay",
      "metadata": {
        "id": "oVKH4ehvf8Ay"
      },
      "outputs": [],
      "source": [
        "# вставьте сюда параметры подключения из юнита 1. Работа с базой данных из Python "
      ]
    },
    {
      "cell_type": "code",
      "execution_count": 69,
      "id": "G4X_q8KBf7SF",
      "metadata": {
        "id": "G4X_q8KBf7SF"
      },
      "outputs": [],
      "source": [
        "connection = psycopg2.connect(\n",
        "    dbname=DBNAME,\n",
        "    user=USER,\n",
        "    host=HOST,\n",
        "    password=PASSWORD,\n",
        "    port=PORT\n",
        ")"
      ]
    },
    {
      "cell_type": "code",
      "execution_count": 70,
      "id": "5c72fc1a",
      "metadata": {},
      "outputs": [],
      "source": [
        "# Убираем лишние собщения в выводе.\n",
        "import warnings\n",
        "warnings.filterwarnings(\"ignore\") "
      ]
    },
    {
      "cell_type": "markdown",
      "id": "0dc6476b-7a00-44f1-ac93-6e3baed33a29",
      "metadata": {
        "id": "0dc6476b-7a00-44f1-ac93-6e3baed33a29"
      },
      "source": [
        "# Юнит 3. Предварительный анализ данных"
      ]
    },
    {
      "cell_type": "markdown",
      "id": "889782b6-8d1c-410e-8920-e57f27917c64",
      "metadata": {
        "id": "889782b6-8d1c-410e-8920-e57f27917c64"
      },
      "source": [
        "1. Напишите запрос, который посчитает количество вакансий в нашей базе (вакансии находятся в таблице vacancies). "
      ]
    },
    {
      "cell_type": "code",
      "execution_count": 71,
      "id": "bc39e68e-ed02-4ee2-9235-7258a2f867a8",
      "metadata": {
        "id": "bc39e68e-ed02-4ee2-9235-7258a2f867a8"
      },
      "outputs": [],
      "source": [
        "# текст запроса\n",
        "query_3_1 = f'''\n",
        "\n",
        "    SELECT COUNT(id) as count\n",
        "    FROM VACANCIES  \n",
        "    \n",
        "'''"
      ]
    },
    {
      "cell_type": "code",
      "execution_count": 72,
      "id": "7mAwtsk4hEHY",
      "metadata": {
        "id": "7mAwtsk4hEHY"
      },
      "outputs": [
        {
          "name": "stdout",
          "output_type": "stream",
          "text": [
            "Количество вакансий: 49197\n"
          ]
        }
      ],
      "source": [
        "# результат запроса\n",
        "df = pd.read_sql_query(query_3_1, connection)\n",
        "print(f'Количество вакансий: {df.iloc[0,0]}') "
      ]
    },
    {
      "cell_type": "markdown",
      "id": "b583485d-1f9e-494e-ada4-80ffff7c53d6",
      "metadata": {
        "id": "b583485d-1f9e-494e-ada4-80ffff7c53d6"
      },
      "source": [
        "2. Напишите запрос, который посчитает количество работодателей (таблица employers). "
      ]
    },
    {
      "cell_type": "code",
      "execution_count": 73,
      "id": "5408c52c-3407-4a63-b25b-1aafa2322d28",
      "metadata": {
        "id": "5408c52c-3407-4a63-b25b-1aafa2322d28"
      },
      "outputs": [],
      "source": [
        "# текст запроса\n",
        "query_3_2 = f'''\n",
        "\n",
        "    SELECT COUNT(id)\n",
        "    FROM employers  \n",
        "    \n",
        "'''"
      ]
    },
    {
      "cell_type": "code",
      "execution_count": 74,
      "id": "jVL4eshKhdqc",
      "metadata": {
        "id": "jVL4eshKhdqc"
      },
      "outputs": [
        {
          "name": "stdout",
          "output_type": "stream",
          "text": [
            "Количество работодателей: 23501\n"
          ]
        }
      ],
      "source": [
        "# результат запроса\n",
        "df = pd.read_sql_query(query_3_2, connection)\n",
        "print(f'Количество работодателей: {df.iloc[0,0]}')"
      ]
    },
    {
      "cell_type": "markdown",
      "id": "a2bfff1f-c975-4bf6-84be-2185d79dcb76",
      "metadata": {
        "id": "a2bfff1f-c975-4bf6-84be-2185d79dcb76"
      },
      "source": [
        "3. Посчитате с помощью запроса количество регионов (таблица areas)."
      ]
    },
    {
      "cell_type": "code",
      "execution_count": 75,
      "id": "1m8QJwBYhey6",
      "metadata": {
        "id": "1m8QJwBYhey6"
      },
      "outputs": [],
      "source": [
        "# текст запроса\n",
        "query_3_3 = f'''\n",
        "\n",
        "    SELECT COUNT(DISTINCT id)\n",
        "    FROM areas     \n",
        "    \n",
        "'''"
      ]
    },
    {
      "cell_type": "code",
      "execution_count": 76,
      "id": "EZsn9tlfhe7f",
      "metadata": {
        "id": "EZsn9tlfhe7f"
      },
      "outputs": [
        {
          "name": "stdout",
          "output_type": "stream",
          "text": [
            "Количество регионов: 1362\n"
          ]
        }
      ],
      "source": [
        "# результат запроса\n",
        "df = pd.read_sql_query(query_3_3, connection)\n",
        "print(f'Количество регионов: {df.iloc[0,0]}')"
      ]
    },
    {
      "cell_type": "markdown",
      "id": "41bb59f3-53cc-4a67-a5bc-bedf573955e4",
      "metadata": {
        "id": "41bb59f3-53cc-4a67-a5bc-bedf573955e4"
      },
      "source": [
        "4. Посчитате с помощью запроса количество сфер деятельности в базе (таблица industries)."
      ]
    },
    {
      "cell_type": "code",
      "execution_count": 77,
      "id": "d286cf4c-707b-4cd2-9190-7ab3587d04a1",
      "metadata": {
        "id": "d286cf4c-707b-4cd2-9190-7ab3587d04a1"
      },
      "outputs": [],
      "source": [
        "# текст запроса\n",
        "query_3_4 = f'''\n",
        "\n",
        "    SELECT COUNT(id)\n",
        "    FROM industries\n",
        "     \n",
        "'''"
      ]
    },
    {
      "cell_type": "code",
      "execution_count": 78,
      "id": "JYAaoZ4qhfzW",
      "metadata": {
        "id": "JYAaoZ4qhfzW"
      },
      "outputs": [
        {
          "name": "stdout",
          "output_type": "stream",
          "text": [
            "Количество сфер деятельности в базе: 294\n"
          ]
        }
      ],
      "source": [
        "# результат запроса\n",
        "df = pd.read_sql_query(query_3_4, connection)\n",
        "print(f'Количество сфер деятельности в базе: {df.iloc[0,0]}')"
      ]
    },
    {
      "cell_type": "markdown",
      "id": "9a8a2181-6914-448b-85f1-38f5f18b8a93",
      "metadata": {
        "id": "9a8a2181-6914-448b-85f1-38f5f18b8a93"
      },
      "source": [
        "***"
      ]
    },
    {
      "cell_type": "markdown",
      "id": "5ab8c669",
      "metadata": {},
      "source": [
        "# Выводы по предварительному анализу данных\n",
        "\n",
        "- В базе вакансий содержится 49197 вакансий;\n",
        "- Вакансии разместили 23501 работодателя;\n",
        "- Вакансии имеются в 1362 регионе; \n",
        "- Общее число сфер деятельности работодателей 294."
      ]
    },
    {
      "cell_type": "markdown",
      "id": "8d62a9f3-f64e-4fe7-bdac-c4dffa16155e",
      "metadata": {
        "id": "8d62a9f3-f64e-4fe7-bdac-c4dffa16155e"
      },
      "source": [
        "# Юнит 4. Детальный анализ вакансий"
      ]
    },
    {
      "cell_type": "markdown",
      "id": "93053d3d-b284-481a-9cf7-012d7014c0e0",
      "metadata": {
        "id": "93053d3d-b284-481a-9cf7-012d7014c0e0"
      },
      "source": [
        "1. Напишите запрос, который позволит узнать, сколько (cnt) вакансий в каждом регионе (area).\n",
        "Отсортируйте по количеству вакансий в порядке убывания."
      ]
    },
    {
      "cell_type": "code",
      "execution_count": 79,
      "id": "3f069da6-fdc9-4ae7-b514-fafe2675efd3",
      "metadata": {
        "id": "3f069da6-fdc9-4ae7-b514-fafe2675efd3"
      },
      "outputs": [],
      "source": [
        "# текст запроса\n",
        "query_4_1 = f'''\n",
        "\n",
        "    SELECT \n",
        "        a.name area,\n",
        "        count(a.id) cnt    \n",
        "    FROM VACANCIES v\n",
        "    left join AREAS a ON a.id = v.area_id\n",
        "    GROUP BY a.name\n",
        "    ORDER BY cnt DESC\n",
        "\n",
        "'''"
      ]
    },
    {
      "cell_type": "code",
      "execution_count": 80,
      "id": "P7QL86hrjhRJ",
      "metadata": {
        "id": "P7QL86hrjhRJ"
      },
      "outputs": [
        {
          "data": {
            "text/html": [
              "<div>\n",
              "<style scoped>\n",
              "    .dataframe tbody tr th:only-of-type {\n",
              "        vertical-align: middle;\n",
              "    }\n",
              "\n",
              "    .dataframe tbody tr th {\n",
              "        vertical-align: top;\n",
              "    }\n",
              "\n",
              "    .dataframe thead th {\n",
              "        text-align: right;\n",
              "    }\n",
              "</style>\n",
              "<table border=\"1\" class=\"dataframe\">\n",
              "  <thead>\n",
              "    <tr style=\"text-align: right;\">\n",
              "      <th></th>\n",
              "      <th>area</th>\n",
              "      <th>cnt</th>\n",
              "    </tr>\n",
              "  </thead>\n",
              "  <tbody>\n",
              "    <tr>\n",
              "      <th>0</th>\n",
              "      <td>Москва</td>\n",
              "      <td>5333</td>\n",
              "    </tr>\n",
              "    <tr>\n",
              "      <th>1</th>\n",
              "      <td>Санкт-Петербург</td>\n",
              "      <td>2851</td>\n",
              "    </tr>\n",
              "    <tr>\n",
              "      <th>2</th>\n",
              "      <td>Минск</td>\n",
              "      <td>2112</td>\n",
              "    </tr>\n",
              "    <tr>\n",
              "      <th>3</th>\n",
              "      <td>Новосибирск</td>\n",
              "      <td>2006</td>\n",
              "    </tr>\n",
              "    <tr>\n",
              "      <th>4</th>\n",
              "      <td>Алматы</td>\n",
              "      <td>1892</td>\n",
              "    </tr>\n",
              "  </tbody>\n",
              "</table>\n",
              "</div>"
            ],
            "text/plain": [
              "              area   cnt\n",
              "0           Москва  5333\n",
              "1  Санкт-Петербург  2851\n",
              "2            Минск  2112\n",
              "3      Новосибирск  2006\n",
              "4           Алматы  1892"
            ]
          },
          "execution_count": 80,
          "metadata": {},
          "output_type": "execute_result"
        }
      ],
      "source": [
        "# результат запроса\n",
        "df = pd.read_sql_query(query_4_1, connection)\n",
        "df.head(5) "
      ]
    },
    {
      "cell_type": "markdown",
      "id": "4266f0b6-1646-492a-88b4-2f6a46502135",
      "metadata": {
        "id": "4266f0b6-1646-492a-88b4-2f6a46502135"
      },
      "source": [
        "2. Напишите запрос, чтобы определить у какого количества вакансий заполнено хотя бы одно из двух полей с зарплатой."
      ]
    },
    {
      "cell_type": "code",
      "execution_count": 81,
      "id": "0c44b350-72eb-4d65-8b54-a1fc449ba9fd",
      "metadata": {
        "id": "0c44b350-72eb-4d65-8b54-a1fc449ba9fd"
      },
      "outputs": [],
      "source": [
        "# текст запроса\n",
        "query_4_2 = f'''\n",
        "\n",
        "    SELECT COUNT (id)    \n",
        "    FROM VACANCIES \n",
        "    WHERE salary_from IS NOT NULL OR salary_to IS NOT NULL\n",
        "   \n",
        "'''"
      ]
    },
    {
      "cell_type": "code",
      "execution_count": 82,
      "id": "rhvwaMDkoWTi",
      "metadata": {
        "id": "rhvwaMDkoWTi"
      },
      "outputs": [
        {
          "name": "stdout",
          "output_type": "stream",
          "text": [
            "Количество вакансий где заполнено хотя бы одно из двух полей с зарплатой: 24073\n"
          ]
        }
      ],
      "source": [
        "# результат запроса\n",
        "df = pd.read_sql_query(query_4_2, connection)\n",
        "print(f'Количество вакансий где заполнено хотя бы одно из двух полей с зарплатой: {df.iloc[0,0]}')"
      ]
    },
    {
      "cell_type": "markdown",
      "id": "635c4d5d-f323-4c66-b428-50a088120aa0",
      "metadata": {
        "id": "635c4d5d-f323-4c66-b428-50a088120aa0"
      },
      "source": [
        "3. Найдите средние значения для нижней и верхней границы зарплатной вилки. Округлите значения до целого."
      ]
    },
    {
      "cell_type": "code",
      "execution_count": 83,
      "id": "603cdbe4-0ec3-4106-8eaf-c73fcdd29165",
      "metadata": {
        "id": "603cdbe4-0ec3-4106-8eaf-c73fcdd29165"
      },
      "outputs": [],
      "source": [
        "# текст запроса\n",
        "\n",
        "query_4_3 = f'''\n",
        "\n",
        "    /* Округляем до целого среднюю нижнюю и верхню границу зарплаты и приводим к типу int.*/\n",
        "    SELECT \n",
        "        ROUND(AVG(salary_from))::int avg_min, \n",
        "        ROUND(AVG(salary_to))::int avg_max     \n",
        "    FROM VACANCIES\n",
        "    \n",
        "'''"
      ]
    },
    {
      "cell_type": "code",
      "execution_count": 84,
      "id": "pswpAb66ovZZ",
      "metadata": {
        "id": "pswpAb66ovZZ"
      },
      "outputs": [
        {
          "name": "stdout",
          "output_type": "stream",
          "text": [
            "Среднее значение для нижней и верхней границы зарплатной вилки: 71065 и 110537 соответственно.\n"
          ]
        }
      ],
      "source": [
        "# результат запроса\n",
        "df = pd.read_sql_query(query_4_3, connection)\n",
        "print(f'Среднее значение для нижней и верхней границы зарплатной вилки: {df.iloc[0,0]} и {df.iloc[0,1]} соответственно.')"
      ]
    },
    {
      "cell_type": "markdown",
      "id": "f3fdaec9-5fd3-4260-9cf5-1d7406b628a5",
      "metadata": {
        "id": "f3fdaec9-5fd3-4260-9cf5-1d7406b628a5"
      },
      "source": [
        "4. Напишите запрос, который выведет количество вакансий для каждого сочетания типа рабочего графика (schedule) и типа трудоустройства (employment), используемого в вакансиях. Результат отсортируйте по убыванию количества.\n"
      ]
    },
    {
      "cell_type": "code",
      "execution_count": 85,
      "id": "1ea710ec-871b-431e-9462-c7d0fd87011b",
      "metadata": {
        "id": "1ea710ec-871b-431e-9462-c7d0fd87011b"
      },
      "outputs": [],
      "source": [
        "# текст запроса\n",
        "query_4_4 = f'''\n",
        "\n",
        "    /*Считаем количество вакансий по критериям сочетания типа рабочего графика и типа трудоустройства.*/\n",
        "    SELECT \n",
        "        COUNT(id) cnt, \n",
        "        schedule тип_рабочего_графика ,\n",
        "        employment тип_трудоустройства             \n",
        "    FROM VACANCIES\n",
        "    GROUP BY \n",
        "        schedule,\n",
        "        employment\n",
        "    ORDER BY cnt DESC\n",
        "        \n",
        "'''"
      ]
    },
    {
      "cell_type": "code",
      "execution_count": 86,
      "id": "lGUVqavdo4JQ",
      "metadata": {
        "id": "lGUVqavdo4JQ"
      },
      "outputs": [
        {
          "data": {
            "text/html": [
              "<div>\n",
              "<style scoped>\n",
              "    .dataframe tbody tr th:only-of-type {\n",
              "        vertical-align: middle;\n",
              "    }\n",
              "\n",
              "    .dataframe tbody tr th {\n",
              "        vertical-align: top;\n",
              "    }\n",
              "\n",
              "    .dataframe thead th {\n",
              "        text-align: right;\n",
              "    }\n",
              "</style>\n",
              "<table border=\"1\" class=\"dataframe\">\n",
              "  <thead>\n",
              "    <tr style=\"text-align: right;\">\n",
              "      <th></th>\n",
              "      <th>cnt</th>\n",
              "      <th>тип_рабочего_графика</th>\n",
              "      <th>тип_трудоустройства</th>\n",
              "    </tr>\n",
              "  </thead>\n",
              "  <tbody>\n",
              "    <tr>\n",
              "      <th>0</th>\n",
              "      <td>35367</td>\n",
              "      <td>Полный день</td>\n",
              "      <td>Полная занятость</td>\n",
              "    </tr>\n",
              "    <tr>\n",
              "      <th>1</th>\n",
              "      <td>7802</td>\n",
              "      <td>Удаленная работа</td>\n",
              "      <td>Полная занятость</td>\n",
              "    </tr>\n",
              "    <tr>\n",
              "      <th>2</th>\n",
              "      <td>1593</td>\n",
              "      <td>Гибкий график</td>\n",
              "      <td>Полная занятость</td>\n",
              "    </tr>\n",
              "    <tr>\n",
              "      <th>3</th>\n",
              "      <td>1312</td>\n",
              "      <td>Удаленная работа</td>\n",
              "      <td>Частичная занятость</td>\n",
              "    </tr>\n",
              "    <tr>\n",
              "      <th>4</th>\n",
              "      <td>940</td>\n",
              "      <td>Сменный график</td>\n",
              "      <td>Полная занятость</td>\n",
              "    </tr>\n",
              "    <tr>\n",
              "      <th>5</th>\n",
              "      <td>569</td>\n",
              "      <td>Полный день</td>\n",
              "      <td>Стажировка</td>\n",
              "    </tr>\n",
              "    <tr>\n",
              "      <th>6</th>\n",
              "      <td>367</td>\n",
              "      <td>Вахтовый метод</td>\n",
              "      <td>Полная занятость</td>\n",
              "    </tr>\n",
              "    <tr>\n",
              "      <th>7</th>\n",
              "      <td>347</td>\n",
              "      <td>Полный день</td>\n",
              "      <td>Частичная занятость</td>\n",
              "    </tr>\n",
              "    <tr>\n",
              "      <th>8</th>\n",
              "      <td>312</td>\n",
              "      <td>Гибкий график</td>\n",
              "      <td>Частичная занятость</td>\n",
              "    </tr>\n",
              "    <tr>\n",
              "      <th>9</th>\n",
              "      <td>141</td>\n",
              "      <td>Полный день</td>\n",
              "      <td>Проектная работа</td>\n",
              "    </tr>\n",
              "    <tr>\n",
              "      <th>10</th>\n",
              "      <td>133</td>\n",
              "      <td>Удаленная работа</td>\n",
              "      <td>Проектная работа</td>\n",
              "    </tr>\n",
              "    <tr>\n",
              "      <th>11</th>\n",
              "      <td>116</td>\n",
              "      <td>Гибкий график</td>\n",
              "      <td>Стажировка</td>\n",
              "    </tr>\n",
              "    <tr>\n",
              "      <th>12</th>\n",
              "      <td>101</td>\n",
              "      <td>Сменный график</td>\n",
              "      <td>Частичная занятость</td>\n",
              "    </tr>\n",
              "    <tr>\n",
              "      <th>13</th>\n",
              "      <td>64</td>\n",
              "      <td>Удаленная работа</td>\n",
              "      <td>Стажировка</td>\n",
              "    </tr>\n",
              "    <tr>\n",
              "      <th>14</th>\n",
              "      <td>18</td>\n",
              "      <td>Гибкий график</td>\n",
              "      <td>Проектная работа</td>\n",
              "    </tr>\n",
              "    <tr>\n",
              "      <th>15</th>\n",
              "      <td>12</td>\n",
              "      <td>Сменный график</td>\n",
              "      <td>Стажировка</td>\n",
              "    </tr>\n",
              "    <tr>\n",
              "      <th>16</th>\n",
              "      <td>2</td>\n",
              "      <td>Вахтовый метод</td>\n",
              "      <td>Проектная работа</td>\n",
              "    </tr>\n",
              "    <tr>\n",
              "      <th>17</th>\n",
              "      <td>1</td>\n",
              "      <td>Сменный график</td>\n",
              "      <td>Проектная работа</td>\n",
              "    </tr>\n",
              "  </tbody>\n",
              "</table>\n",
              "</div>"
            ],
            "text/plain": [
              "      cnt тип_рабочего_графика  тип_трудоустройства\n",
              "0   35367          Полный день     Полная занятость\n",
              "1    7802     Удаленная работа     Полная занятость\n",
              "2    1593        Гибкий график     Полная занятость\n",
              "3    1312     Удаленная работа  Частичная занятость\n",
              "4     940       Сменный график     Полная занятость\n",
              "5     569          Полный день           Стажировка\n",
              "6     367       Вахтовый метод     Полная занятость\n",
              "7     347          Полный день  Частичная занятость\n",
              "8     312        Гибкий график  Частичная занятость\n",
              "9     141          Полный день     Проектная работа\n",
              "10    133     Удаленная работа     Проектная работа\n",
              "11    116        Гибкий график           Стажировка\n",
              "12    101       Сменный график  Частичная занятость\n",
              "13     64     Удаленная работа           Стажировка\n",
              "14     18        Гибкий график     Проектная работа\n",
              "15     12       Сменный график           Стажировка\n",
              "16      2       Вахтовый метод     Проектная работа\n",
              "17      1       Сменный график     Проектная работа"
            ]
          },
          "execution_count": 86,
          "metadata": {},
          "output_type": "execute_result"
        }
      ],
      "source": [
        "# результат запроса\n",
        "df = pd.read_sql_query(query_4_4, connection)\n",
        "df"
      ]
    },
    {
      "cell_type": "markdown",
      "id": "0136ffee-0ead-4a6b-b608-61d1c753a438",
      "metadata": {
        "id": "0136ffee-0ead-4a6b-b608-61d1c753a438"
      },
      "source": [
        "5. Напишите запрос, выводящий значения поля Требуемый опыт работы (experience) в порядке возрастания количества вакансий, в которых указан данный вариант опыта. "
      ]
    },
    {
      "cell_type": "code",
      "execution_count": 87,
      "id": "5b3a8e79-f7ab-4008-b767-12aea3a205ea",
      "metadata": {
        "id": "5b3a8e79-f7ab-4008-b767-12aea3a205ea"
      },
      "outputs": [],
      "source": [
        "# текст запроса\n",
        "query_4_5 = f'''\n",
        "\n",
        "    /* Запрос выводит поле с требуемым опытом и соответствующее ему количество вакансий*/\n",
        "    select \n",
        "        experience as experience,\n",
        "        count(id) as count\n",
        "        \n",
        "    from VACANCIES\n",
        "    group by experience\n",
        "    order by count asc\n",
        "   \n",
        "'''"
      ]
    },
    {
      "cell_type": "code",
      "execution_count": 88,
      "id": "c91c1b71",
      "metadata": {},
      "outputs": [
        {
          "data": {
            "text/html": [
              "<div>\n",
              "<style scoped>\n",
              "    .dataframe tbody tr th:only-of-type {\n",
              "        vertical-align: middle;\n",
              "    }\n",
              "\n",
              "    .dataframe tbody tr th {\n",
              "        vertical-align: top;\n",
              "    }\n",
              "\n",
              "    .dataframe thead th {\n",
              "        text-align: right;\n",
              "    }\n",
              "</style>\n",
              "<table border=\"1\" class=\"dataframe\">\n",
              "  <thead>\n",
              "    <tr style=\"text-align: right;\">\n",
              "      <th></th>\n",
              "      <th>experience</th>\n",
              "      <th>count</th>\n",
              "    </tr>\n",
              "  </thead>\n",
              "  <tbody>\n",
              "    <tr>\n",
              "      <th>0</th>\n",
              "      <td>Более 6 лет</td>\n",
              "      <td>1337</td>\n",
              "    </tr>\n",
              "    <tr>\n",
              "      <th>1</th>\n",
              "      <td>Нет опыта</td>\n",
              "      <td>7197</td>\n",
              "    </tr>\n",
              "    <tr>\n",
              "      <th>2</th>\n",
              "      <td>От 3 до 6 лет</td>\n",
              "      <td>14511</td>\n",
              "    </tr>\n",
              "    <tr>\n",
              "      <th>3</th>\n",
              "      <td>От 1 года до 3 лет</td>\n",
              "      <td>26152</td>\n",
              "    </tr>\n",
              "  </tbody>\n",
              "</table>\n",
              "</div>"
            ],
            "text/plain": [
              "           experience  count\n",
              "0         Более 6 лет   1337\n",
              "1           Нет опыта   7197\n",
              "2       От 3 до 6 лет  14511\n",
              "3  От 1 года до 3 лет  26152"
            ]
          },
          "execution_count": 88,
          "metadata": {},
          "output_type": "execute_result"
        }
      ],
      "source": [
        "# результат запроса\n",
        "df = pd.read_sql_query(query_4_5, connection)\n",
        "df"
      ]
    },
    {
      "cell_type": "markdown",
      "id": "cbc1b4fc",
      "metadata": {},
      "source": [
        "# Выводы по детальному анализу вакансий\n",
        "- Из данных следует, что наибольшее количество вакансий представлено в Москве, затем, с отрывом более \n",
        "  2000 вакансий идет Санкт-Петербург, что видимо с вязано с повышенной экономической активностью в них.\n",
        "\n",
        "- Работодатели не всегда (24073 из 49197 вакансий) указывают пределы ЗП для соискателей,\n",
        "  что означает их готовность обсуждать с соискателями её размер индивидуально.\n",
        "\n",
        "- Основная масса работодателей предлагают ЗП в пределах 71000 - 110000.  \n",
        "\n",
        "- Максимум вакансий содержат требования к типу рабочего графика -  полный день с \n",
        "  типом трудоустройства - полная занятость.\n",
        "\n",
        "- Показатель распределения количества вакансий от опыта поззволяет сделать вывод, \n",
        "  что специалистов с опытом работы более 6     лет  \n",
        "\n",
        "- Максимум вакансий предлагается для соискателей с опытом от 1 года до 3. \n",
        "  Видимо здесь наблюдается наибольшая 'текучка' кадров. Вторым, по количеству вакансий, \n",
        "  идет опыт от 3 до 6 лет, где уже требования к соискателям более высокие. \n",
        "  Специалистов с опытом более 6 лет компании компании видимо стремятся удержать \n",
        "  из-за их компетенций - от того и количество вакансий минимально. \n",
        "\n"
      ]
    },
    {
      "cell_type": "markdown",
      "id": "oq2b7n1QpIka",
      "metadata": {
        "id": "oq2b7n1QpIka"
      },
      "source": [
        "***"
      ]
    },
    {
      "cell_type": "markdown",
      "id": "7ea20ab6-04a7-40a0-adec-443a0e5a42c3",
      "metadata": {
        "id": "7ea20ab6-04a7-40a0-adec-443a0e5a42c3"
      },
      "source": [
        "# Юнит 5. Анализ работодателей"
      ]
    },
    {
      "cell_type": "markdown",
      "id": "968aed80-74ef-4ffb-b5bf-c65b84e9caea",
      "metadata": {
        "id": "968aed80-74ef-4ffb-b5bf-c65b84e9caea"
      },
      "source": [
        "1. Напишите запрос, который позволит узнать, какие работодатели находятся на первом и пятом месте по количеству вакансий."
      ]
    },
    {
      "cell_type": "code",
      "execution_count": 89,
      "id": "f2d62796-d400-4ec1-a675-88112739a50e",
      "metadata": {
        "id": "f2d62796-d400-4ec1-a675-88112739a50e"
      },
      "outputs": [],
      "source": [
        "# текст запроса\n",
        "query_5_1 = f'''\n",
        "    \n",
        "   (\n",
        "      SELECT   /*Запрос выводящий первого работодателя по количеству вакансий.*/\n",
        "         e.name company_name,\n",
        "         count(e.id) cnt       \n",
        "      FROM VACANCIES v\n",
        "      JOIN EMPLOYERS e ON v.employer_id = e.id\n",
        "      GROUP BY e.id\n",
        "      ORDER BY cnt DESC\n",
        "      LIMIT 1\n",
        "   )\n",
        "      \n",
        "   UNION  /*Соединяем результаты запросов*/\n",
        "      \n",
        "   (\n",
        "      SELECT   /*Запрос выводящий пятого работодателя по количеству вакансий.*/\n",
        "         e.name company_name,\n",
        "         COUNT(e.id) cnt       \n",
        "      FROM VACANCIES v\n",
        "      JOIN EMPLOYERS e ON v.employer_id = e.id\n",
        "      GROUP BY e.id\n",
        "      ORDER BY cnt DESC\n",
        "      OFFSET 4\n",
        "      LIMIT 1\n",
        "   )\n",
        "   ORDER BY cnt DESC  /*Группируем по количеству вакансий.*/ \n",
        "\n",
        "'''"
      ]
    },
    {
      "cell_type": "code",
      "execution_count": 90,
      "id": "64tOMkAxqkQk",
      "metadata": {
        "id": "64tOMkAxqkQk"
      },
      "outputs": [
        {
          "data": {
            "text/html": [
              "<div>\n",
              "<style scoped>\n",
              "    .dataframe tbody tr th:only-of-type {\n",
              "        vertical-align: middle;\n",
              "    }\n",
              "\n",
              "    .dataframe tbody tr th {\n",
              "        vertical-align: top;\n",
              "    }\n",
              "\n",
              "    .dataframe thead th {\n",
              "        text-align: right;\n",
              "    }\n",
              "</style>\n",
              "<table border=\"1\" class=\"dataframe\">\n",
              "  <thead>\n",
              "    <tr style=\"text-align: right;\">\n",
              "      <th></th>\n",
              "      <th>company_name</th>\n",
              "      <th>cnt</th>\n",
              "    </tr>\n",
              "  </thead>\n",
              "  <tbody>\n",
              "    <tr>\n",
              "      <th>0</th>\n",
              "      <td>Яндекс</td>\n",
              "      <td>1933</td>\n",
              "    </tr>\n",
              "    <tr>\n",
              "      <th>1</th>\n",
              "      <td>Газпром нефть</td>\n",
              "      <td>331</td>\n",
              "    </tr>\n",
              "  </tbody>\n",
              "</table>\n",
              "</div>"
            ],
            "text/plain": [
              "    company_name   cnt\n",
              "0         Яндекс  1933\n",
              "1  Газпром нефть   331"
            ]
          },
          "execution_count": 90,
          "metadata": {},
          "output_type": "execute_result"
        }
      ],
      "source": [
        "# результат запроса\n",
        "df = pd.read_sql_query(query_5_1, connection)\n",
        "df"
      ]
    },
    {
      "cell_type": "markdown",
      "id": "68377cfc-b378-43dc-ab7d-1195abf2c515",
      "metadata": {
        "id": "68377cfc-b378-43dc-ab7d-1195abf2c515"
      },
      "source": [
        "2. Напишите запрос, который для каждого региона выведет количество работодателей и вакансий в нём.\n",
        "Среди регионов, в которых нет вакансий, найдите тот, в котором наибольшее количество работодателей.\n"
      ]
    },
    {
      "cell_type": "code",
      "execution_count": 91,
      "id": "dd7df27a-e3e8-412e-a21a-5d389b71e891",
      "metadata": {
        "id": "dd7df27a-e3e8-412e-a21a-5d389b71e891"
      },
      "outputs": [],
      "source": [
        "# текст запроса\n",
        "query_5_2 = f'''\n",
        "\n",
        "    SELECT /*Запрос выыодит регион с наибольшим количеством работодателей с отсутствующими вакансиями.*/\n",
        "        a.name area,        \n",
        "        COUNT(DISTINCT e.id) employer_cnt,\n",
        "        COUNT(v.id) vacancy_cnt\n",
        "    FROM \n",
        "        AREAS a\n",
        "        LEFT JOIN VACANCIES v ON a.id = v.area_id         \n",
        "        LEFT JOIN EMPLOYERS e ON a.id = e.area\n",
        "    WHERE v.id IS NULL  \n",
        "    GROUP BY a.name  \n",
        "    ORDER BY employer_cnt DESC\n",
        "    LIMIT 1\n",
        "    \n",
        "'''\n"
      ]
    },
    {
      "cell_type": "code",
      "execution_count": 92,
      "id": "x1ikWbydrbf6",
      "metadata": {
        "id": "x1ikWbydrbf6"
      },
      "outputs": [
        {
          "name": "stdout",
          "output_type": "stream",
          "text": [
            "Регион с наибольшим количеством работодателей (410), в котором нет вакансий: Россия.\n"
          ]
        }
      ],
      "source": [
        "# результат запроса\n",
        "df = pd.read_sql_query(query_5_2, connection)\n",
        "print(f'Регион с наибольшим количеством работодателей ({df.iloc[0,1]}), в котором нет вакансий: {df.iloc[0,0]}.')"
      ]
    },
    {
      "cell_type": "markdown",
      "id": "f2fe0acb-ab1a-4e15-9326-2560e22d73c1",
      "metadata": {
        "id": "f2fe0acb-ab1a-4e15-9326-2560e22d73c1"
      },
      "source": [
        "3. Для каждого работодателя посчитайте количество регионов, в которых он публикует свои вакансии. Отсортируйте результат по убыванию количества.\n"
      ]
    },
    {
      "cell_type": "code",
      "execution_count": 93,
      "id": "6271f8ad-bd2e-4196-ae4a-5b39c4c1010e",
      "metadata": {
        "id": "6271f8ad-bd2e-4196-ae4a-5b39c4c1010e"
      },
      "outputs": [],
      "source": [
        "# текст запроса\n",
        "query_5_3 = f'''\n",
        "\n",
        "    SELECT /*Запрос выводит название работодателя и число регионов представления его вакансий.*/\n",
        "        e.name employer,  \n",
        "        COUNT(DISTINCT v.area_id) areas_cnt \n",
        "    FROM EMPLOYERS e\n",
        "        LEFT JOIN VACANCIES v ON e.id = v.employer_id\n",
        "    GROUP BY e.name   \n",
        "    ORDER BY areas_cnt DESC \n",
        "   \n",
        "    \n",
        "'''"
      ]
    },
    {
      "cell_type": "code",
      "execution_count": 94,
      "id": "1EIvX3HasH4F",
      "metadata": {
        "id": "1EIvX3HasH4F"
      },
      "outputs": [
        {
          "data": {
            "text/html": [
              "<div>\n",
              "<style scoped>\n",
              "    .dataframe tbody tr th:only-of-type {\n",
              "        vertical-align: middle;\n",
              "    }\n",
              "\n",
              "    .dataframe tbody tr th {\n",
              "        vertical-align: top;\n",
              "    }\n",
              "\n",
              "    .dataframe thead th {\n",
              "        text-align: right;\n",
              "    }\n",
              "</style>\n",
              "<table border=\"1\" class=\"dataframe\">\n",
              "  <thead>\n",
              "    <tr style=\"text-align: right;\">\n",
              "      <th></th>\n",
              "      <th>employer</th>\n",
              "      <th>areas_cnt</th>\n",
              "    </tr>\n",
              "  </thead>\n",
              "  <tbody>\n",
              "    <tr>\n",
              "      <th>0</th>\n",
              "      <td>Яндекс</td>\n",
              "      <td>181</td>\n",
              "    </tr>\n",
              "    <tr>\n",
              "      <th>1</th>\n",
              "      <td>Ростелеком</td>\n",
              "      <td>152</td>\n",
              "    </tr>\n",
              "    <tr>\n",
              "      <th>2</th>\n",
              "      <td>Спецремонт</td>\n",
              "      <td>116</td>\n",
              "    </tr>\n",
              "    <tr>\n",
              "      <th>3</th>\n",
              "      <td>Поляков Денис Иванович</td>\n",
              "      <td>88</td>\n",
              "    </tr>\n",
              "    <tr>\n",
              "      <th>4</th>\n",
              "      <td>ООО ЕФИН</td>\n",
              "      <td>71</td>\n",
              "    </tr>\n",
              "    <tr>\n",
              "      <th>...</th>\n",
              "      <td>...</td>\n",
              "      <td>...</td>\n",
              "    </tr>\n",
              "    <tr>\n",
              "      <th>23170</th>\n",
              "      <td>СДЕЛКА</td>\n",
              "      <td>0</td>\n",
              "    </tr>\n",
              "    <tr>\n",
              "      <th>23171</th>\n",
              "      <td>Alandr Group</td>\n",
              "      <td>0</td>\n",
              "    </tr>\n",
              "    <tr>\n",
              "      <th>23172</th>\n",
              "      <td>СДК</td>\n",
              "      <td>0</td>\n",
              "    </tr>\n",
              "    <tr>\n",
              "      <th>23173</th>\n",
              "      <td>Lemon Land Lombard</td>\n",
              "      <td>0</td>\n",
              "    </tr>\n",
              "    <tr>\n",
              "      <th>23174</th>\n",
              "      <td>Махина</td>\n",
              "      <td>0</td>\n",
              "    </tr>\n",
              "  </tbody>\n",
              "</table>\n",
              "<p>23175 rows × 2 columns</p>\n",
              "</div>"
            ],
            "text/plain": [
              "                     employer  areas_cnt\n",
              "0                      Яндекс        181\n",
              "1                  Ростелеком        152\n",
              "2                  Спецремонт        116\n",
              "3      Поляков Денис Иванович         88\n",
              "4                   ООО ЕФИН          71\n",
              "...                       ...        ...\n",
              "23170                  СДЕЛКА          0\n",
              "23171            Alandr Group          0\n",
              "23172                     СДК          0\n",
              "23173      Lemon Land Lombard          0\n",
              "23174                  Махина          0\n",
              "\n",
              "[23175 rows x 2 columns]"
            ]
          },
          "metadata": {},
          "output_type": "display_data"
        },
        {
          "name": "stdout",
          "output_type": "stream",
          "text": [
            "Работодатель с наибольшим числом регионов присутствия - Яндекс, представлен в 181 регионе.\n"
          ]
        }
      ],
      "source": [
        "# результат запроса\n",
        "df = pd.read_sql_query(query_5_3, connection)\n",
        "display(df)\n",
        "print(f'Работодатель с наибольшим числом регионов присутствия - {df.iloc[0,0]}, представлен в {df.iloc[0,1]} регионе.')"
      ]
    },
    {
      "cell_type": "markdown",
      "id": "eab2206d-d95b-468b-8e5f-34381abf0ce7",
      "metadata": {
        "id": "eab2206d-d95b-468b-8e5f-34381abf0ce7"
      },
      "source": [
        "4. Напишите запрос для подсчёта количества работодателей, у которых не указана сфера деятельности. "
      ]
    },
    {
      "cell_type": "code",
      "execution_count": 95,
      "id": "80defb23-bfb1-4a18-8be6-bf36aa7165d5",
      "metadata": {
        "id": "80defb23-bfb1-4a18-8be6-bf36aa7165d5"
      },
      "outputs": [],
      "source": [
        "# текст запроса\n",
        "query_5_4 = f'''\n",
        "\n",
        "    SELECT /*Запрос выводит количество работодателей неуказавших сферу деятельности.*/\n",
        "        COUNT (e.id)        \n",
        "    FROM EMPLOYERS e\n",
        "        LEFT JOIN EMPLOYERS_INDUSTRIES em ON e.id = em.employer_id\n",
        "        LEFT JOIN INDUSTRIES i ON em.industry_id = i.id \n",
        "    WHERE i.name IS NULL       \n",
        "'''\n",
        "    "
      ]
    },
    {
      "cell_type": "code",
      "execution_count": 96,
      "id": "Dp_yCx6ysQSu",
      "metadata": {
        "id": "Dp_yCx6ysQSu"
      },
      "outputs": [
        {
          "name": "stdout",
          "output_type": "stream",
          "text": [
            "Количество работодателей, у которых не указана сфера деятельности: 8419.\n"
          ]
        }
      ],
      "source": [
        "# результат запроса\n",
        "df = pd.read_sql_query(query_5_4, connection)\n",
        "print(f'Количество работодателей, у которых не указана сфера деятельности: {df.iloc[0,0]}.')"
      ]
    },
    {
      "cell_type": "markdown",
      "id": "0112af31-f6b0-4e3b-82ab-71296e752e5e",
      "metadata": {
        "id": "0112af31-f6b0-4e3b-82ab-71296e752e5e"
      },
      "source": [
        "5. Напишите запрос, чтобы узнать название компании, находящейся на третьем месте в алфавитном списке (по названию) компаний, у которых указано четыре сферы деятельности. "
      ]
    },
    {
      "cell_type": "code",
      "execution_count": 97,
      "id": "973b0cfc-a972-470a-8b4a-68744ef220c4",
      "metadata": {
        "id": "973b0cfc-a972-470a-8b4a-68744ef220c4"
      },
      "outputs": [],
      "source": [
        "# текст запроса\n",
        "query_5_5 = f'''\n",
        "\n",
        "    SELECT /*Запрос выводит название компании находящейся на 3 месте среди компаний с 4 сферами деятельности*/\n",
        "        e.name employer,        \n",
        "        COUNT(DISTINCT i.id) industries_cnt        \n",
        "    FROM EMPLOYERS e\n",
        "        LEFT JOIN EMPLOYERS_INDUSTRIES em ON e.id = em.employer_id\n",
        "        LEFT JOIN INDUSTRIES i ON em.industry_id = i.id \n",
        "    /*Отсеиваем компании, не указавших сферы деятельности (уменьшаем время выполнения запроса)*/\n",
        "    WHERE i.name IS NOT NULL    \n",
        "    GROUP BY e.name \n",
        "    HAVING COUNT(DISTINCT i.id) = 4\n",
        "    ORDER BY e.name ASC \n",
        "    OFFSET 2\n",
        "    LIMIT 1 \n",
        "    \n",
        "'''\n",
        "    "
      ]
    },
    {
      "cell_type": "code",
      "execution_count": 98,
      "id": "xsPtpp8EsaED",
      "metadata": {
        "id": "xsPtpp8EsaED"
      },
      "outputs": [
        {
          "name": "stdout",
          "output_type": "stream",
          "text": [
            "Компания, находящаяся на третьем месте в алфавитном списке (по названию) компаний, у которых указано четыре сферы деятельности: 2ГИС.\n"
          ]
        }
      ],
      "source": [
        "# результат запроса\n",
        "df = pd.read_sql_query(query_5_5, connection)\n",
        "print(f'Компания, находящаяся на третьем месте в алфавитном списке (по названию) компаний, \\\n",
        "у которых указано четыре сферы деятельности: {df.iloc[0,0]}.')"
      ]
    },
    {
      "cell_type": "markdown",
      "id": "3bfcfdaf-755d-4d2b-8ed8-326201dc07ab",
      "metadata": {
        "id": "3bfcfdaf-755d-4d2b-8ed8-326201dc07ab"
      },
      "source": [
        "6. С помощью запроса выясните, у какого количества работодателей в качестве сферы деятельности указана Разработка программного обеспечения.\n"
      ]
    },
    {
      "cell_type": "code",
      "execution_count": 99,
      "id": "b4ef1e7e",
      "metadata": {},
      "outputs": [],
      "source": [
        "# текст запроса\n",
        "query_5_6 = f'''\n",
        "\n",
        "    SELECT /*Количество работодателей со сферой деятельности - Разработка программного обеспечения. */\n",
        "        COUNT(employer_id)\n",
        "    FROM EMPLOYERS e\n",
        "        LEFT JOIN EMPLOYERS_INDUSTRIES em ON e.id = em.employer_id\n",
        "        LEFT JOIN INDUSTRIES i ON i.id = em.industry_id \n",
        "    WHERE i.name = 'Разработка программного обеспечения'  \n",
        "      \n",
        "'''"
      ]
    },
    {
      "cell_type": "code",
      "execution_count": 100,
      "id": "H72qxWM0shPR",
      "metadata": {
        "id": "H72qxWM0shPR"
      },
      "outputs": [
        {
          "name": "stdout",
          "output_type": "stream",
          "text": [
            "Разработкой программного обеспечения занимаются: 3553 работодателя.\n"
          ]
        }
      ],
      "source": [
        "# результат запроса\n",
        "df = pd.read_sql_query(query_5_6, connection)\n",
        "print(f'Разработкой программного обеспечения занимаются: {df.iloc[0,0]} работодателя.')"
      ]
    },
    {
      "cell_type": "markdown",
      "id": "7b02bb86-0546-40fb-94a4-242f050a5c57",
      "metadata": {
        "id": "7b02bb86-0546-40fb-94a4-242f050a5c57"
      },
      "source": [
        "7. Для компании «Яндекс» выведите список регионов-миллионников, в которых представлены вакансии компании, вместе с количеством вакансий в этих регионах. Также добавьте строку Total с общим количеством вакансий компании. Результат отсортируйте по возрастанию количества.\n",
        "\n",
        "Список городов-милионников надо взять [отсюда](https://ru.wikipedia.org/wiki/%D0%93%D0%BE%D1%80%D0%BE%D0%B4%D0%B0-%D0%BC%D0%B8%D0%BB%D0%BB%D0%B8%D0%BE%D0%BD%D0%B5%D1%80%D1%8B_%D0%A0%D0%BE%D1%81%D1%81%D0%B8%D0%B8). \n",
        "\n",
        "Если возникнут трудности с этим задание посмотрите материалы модуля  PYTHON-17. Как получать данные из веб-источников и API. "
      ]
    },
    {
      "cell_type": "code",
      "execution_count": 101,
      "id": "ZdfrL6gIs1Pn",
      "metadata": {
        "id": "ZdfrL6gIs1Pn"
      },
      "outputs": [],
      "source": [
        "# код для получения списка городов-милионников\n",
        "list_m_city = []\n",
        "URL = 'https://ru.wikipedia.org/wiki/Города-миллионеры_России'\n",
        "response = requests.get(URL)\n",
        "page = BeautifulSoup(response.text, 'html.parser')\n",
        "# получаем строку с тегом 'table' класс 'standard' содержащую всю информацию в таблице\n",
        "temp_str = str(page.find('table', class_='standard')).split('title=\"') \n",
        "# добавляем в список только названия городов\n",
        "for i in temp_str[3:]:\n",
        "    temp = i.split('\">')[0]\n",
        "    list_m_city.append(temp)"
      ]
    },
    {
      "cell_type": "code",
      "execution_count": 102,
      "id": "5a0e32a4-e68a-4365-8a39-2fe24c542c36",
      "metadata": {
        "id": "5a0e32a4-e68a-4365-8a39-2fe24c542c36"
      },
      "outputs": [],
      "source": [
        "# текст запроса\n",
        "query_5_7 = f'''\n",
        "\n",
        "    /*Создаем таблицу temp_table для подсчета количества вакансий компании «Яндекс» в городах-миллионниках*/\n",
        "    WITH temp_table AS\n",
        "        (\n",
        "            SELECT \n",
        "                a.name,\n",
        "                COUNT(v.id)::int cnt  /*Количество вакансий для лучшего отображения приводим к типу int.*/\n",
        "            FROM AREAS a \n",
        "            LEFT JOIN VACANCIES v on v.area_id = a.id\n",
        "            LEFT JOIN EMPLOYERS e on e.id = v.employer_id   \n",
        "            /*Ищем вакансии компании только в списке городов-миллионников представленном в виде кортежа.*/\n",
        "            WHERE e.name = 'Яндекс' AND a.name IN {tuple(list_m_city)}\n",
        "            GROUP BY a.id\n",
        "            ORDER BY cnt\n",
        "        )\n",
        "    SELECT /*Выводим название города и количество вакансий компании.*/\n",
        "       name,\n",
        "       cnt\n",
        "    FROM temp_table \n",
        "    UNION /*Присоединяем строку Total с общим количеством вакансий в этих городах*/\n",
        "    SELECT \n",
        "        'Total',\n",
        "        SUM(cnt) cnt \n",
        "    FROM temp_table \n",
        "    ORDER BY cnt  /*Сортируем по возрастанию количества вакансий*/\n",
        "      \n",
        "'''"
      ]
    },
    {
      "cell_type": "code",
      "execution_count": 103,
      "id": "ttPhiO1rsvPq",
      "metadata": {
        "id": "ttPhiO1rsvPq"
      },
      "outputs": [
        {
          "data": {
            "text/html": [
              "<div>\n",
              "<style scoped>\n",
              "    .dataframe tbody tr th:only-of-type {\n",
              "        vertical-align: middle;\n",
              "    }\n",
              "\n",
              "    .dataframe tbody tr th {\n",
              "        vertical-align: top;\n",
              "    }\n",
              "\n",
              "    .dataframe thead th {\n",
              "        text-align: right;\n",
              "    }\n",
              "</style>\n",
              "<table border=\"1\" class=\"dataframe\">\n",
              "  <thead>\n",
              "    <tr style=\"text-align: right;\">\n",
              "      <th></th>\n",
              "      <th>name</th>\n",
              "      <th>cnt</th>\n",
              "    </tr>\n",
              "  </thead>\n",
              "  <tbody>\n",
              "    <tr>\n",
              "      <th>0</th>\n",
              "      <td>Омск</td>\n",
              "      <td>21</td>\n",
              "    </tr>\n",
              "    <tr>\n",
              "      <th>1</th>\n",
              "      <td>Челябинск</td>\n",
              "      <td>22</td>\n",
              "    </tr>\n",
              "    <tr>\n",
              "      <th>2</th>\n",
              "      <td>Красноярск</td>\n",
              "      <td>23</td>\n",
              "    </tr>\n",
              "    <tr>\n",
              "      <th>3</th>\n",
              "      <td>Волгоград</td>\n",
              "      <td>24</td>\n",
              "    </tr>\n",
              "    <tr>\n",
              "      <th>4</th>\n",
              "      <td>Пермь</td>\n",
              "      <td>25</td>\n",
              "    </tr>\n",
              "    <tr>\n",
              "      <th>5</th>\n",
              "      <td>Казань</td>\n",
              "      <td>25</td>\n",
              "    </tr>\n",
              "    <tr>\n",
              "      <th>6</th>\n",
              "      <td>Ростов-на-Дону</td>\n",
              "      <td>25</td>\n",
              "    </tr>\n",
              "    <tr>\n",
              "      <th>7</th>\n",
              "      <td>Уфа</td>\n",
              "      <td>26</td>\n",
              "    </tr>\n",
              "    <tr>\n",
              "      <th>8</th>\n",
              "      <td>Самара</td>\n",
              "      <td>26</td>\n",
              "    </tr>\n",
              "    <tr>\n",
              "      <th>9</th>\n",
              "      <td>Краснодар</td>\n",
              "      <td>30</td>\n",
              "    </tr>\n",
              "    <tr>\n",
              "      <th>10</th>\n",
              "      <td>Воронеж</td>\n",
              "      <td>32</td>\n",
              "    </tr>\n",
              "    <tr>\n",
              "      <th>11</th>\n",
              "      <td>Новосибирск</td>\n",
              "      <td>35</td>\n",
              "    </tr>\n",
              "    <tr>\n",
              "      <th>12</th>\n",
              "      <td>Нижний Новгород</td>\n",
              "      <td>36</td>\n",
              "    </tr>\n",
              "    <tr>\n",
              "      <th>13</th>\n",
              "      <td>Екатеринбург</td>\n",
              "      <td>39</td>\n",
              "    </tr>\n",
              "    <tr>\n",
              "      <th>14</th>\n",
              "      <td>Санкт-Петербург</td>\n",
              "      <td>42</td>\n",
              "    </tr>\n",
              "    <tr>\n",
              "      <th>15</th>\n",
              "      <td>Москва</td>\n",
              "      <td>54</td>\n",
              "    </tr>\n",
              "    <tr>\n",
              "      <th>16</th>\n",
              "      <td>Total</td>\n",
              "      <td>485</td>\n",
              "    </tr>\n",
              "  </tbody>\n",
              "</table>\n",
              "</div>"
            ],
            "text/plain": [
              "               name  cnt\n",
              "0              Омск   21\n",
              "1         Челябинск   22\n",
              "2        Красноярск   23\n",
              "3         Волгоград   24\n",
              "4             Пермь   25\n",
              "5            Казань   25\n",
              "6    Ростов-на-Дону   25\n",
              "7               Уфа   26\n",
              "8            Самара   26\n",
              "9         Краснодар   30\n",
              "10          Воронеж   32\n",
              "11      Новосибирск   35\n",
              "12  Нижний Новгород   36\n",
              "13     Екатеринбург   39\n",
              "14  Санкт-Петербург   42\n",
              "15           Москва   54\n",
              "16            Total  485"
            ]
          },
          "execution_count": 103,
          "metadata": {},
          "output_type": "execute_result"
        }
      ],
      "source": [
        "# результат запроса\n",
        "df = pd.read_sql_query(query_5_7, connection)\n",
        "df"
      ]
    },
    {
      "cell_type": "markdown",
      "id": "910917b9",
      "metadata": {},
      "source": [
        "# Выводы по анализу работодателей\n",
        "- По результату проведенного исследования видно что топ-10 компаний по количеству вакансий - IT компании, банки и Газпром нефть.\n",
        "\n",
        " - Имеются регионы где представлено много работодателей, но отсутствуют вакансии - видимо это связано с ошибкой размещения вакансий.\n",
        "\n",
        "- Максимальное число регионов размещения вакансий одним работодателем - 181, что указывает на его обширный масштаб деятельности.\n",
        "\n",
        "- Масимальное число сфер деятельности работодателей - 16, при этом, число работодателей не указавших сфер деятельности - 8419.\n",
        "  \n",
        "- Разработкой программного обеспечения занимаются: 3553 работодателя.\n",
        "\n",
        "- Для компании «Яндекс» из 1933 вакансий 485 представлены в городах-миллионниках"
      ]
    },
    {
      "cell_type": "markdown",
      "id": "b1ef156a-efcb-49ce-bb23-90763e7f35b2",
      "metadata": {
        "id": "b1ef156a-efcb-49ce-bb23-90763e7f35b2",
        "tags": []
      },
      "source": [
        "# Юнит 6. Предметный анализ"
      ]
    },
    {
      "cell_type": "markdown",
      "id": "b9cd50a0-992d-4988-8463-2b2b1c4629b4",
      "metadata": {
        "id": "b9cd50a0-992d-4988-8463-2b2b1c4629b4"
      },
      "source": [
        "1. Сколько вакансий имеет отношение к данным?\n",
        "\n",
        "Считаем, что вакансия имеет отношение к данным, если в её названии содержатся слова 'data' или 'данн'.\n",
        "\n",
        "*Подсказка: Обратите внимание, что названия вакансий могут быть написаны в любом регистре.* \n"
      ]
    },
    {
      "cell_type": "code",
      "execution_count": 104,
      "id": "54ab0e50-c0f1-47cc-a54b-bc5c8bc363f9",
      "metadata": {
        "id": "54ab0e50-c0f1-47cc-a54b-bc5c8bc363f9"
      },
      "outputs": [],
      "source": [
        "# текст запроса\n",
        "query_6_1 = f'''\n",
        " \n",
        "    SELECT /*Запрос выводит количество вакансий имеющих отношение к данным.*/\n",
        "        COUNT(id)\n",
        "    FROM \n",
        "        VACANCIES\n",
        "    WHERE \n",
        "       name ILIKE '%data%' or name ILIKE '%данн%' \n",
        "    \n",
        "'''"
      ]
    },
    {
      "cell_type": "code",
      "execution_count": 105,
      "id": "9F1meAqsuUjd",
      "metadata": {
        "id": "9F1meAqsuUjd"
      },
      "outputs": [
        {
          "name": "stdout",
          "output_type": "stream",
          "text": [
            "Количество вакансий имеющих отношение к данным: 1771.\n"
          ]
        }
      ],
      "source": [
        "# результат запроса\n",
        "df = pd.read_sql_query(query_6_1, connection)\n",
        "print(f'Количество вакансий имеющих отношение к данным: {df.iloc[0,0]}.')"
      ]
    },
    {
      "cell_type": "markdown",
      "id": "4dea20cb-a36b-474a-a0b9-e08e8e3857a5",
      "metadata": {
        "id": "4dea20cb-a36b-474a-a0b9-e08e8e3857a5"
      },
      "source": [
        "2. Сколько есть подходящих вакансий для начинающего дата-сайентиста? \n",
        "Будем считать вакансиями для дата-сайентистов такие, в названии которых есть хотя бы одно из следующих сочетаний:\n",
        "* 'data scientist'\n",
        "* 'data science'\n",
        "* 'исследователь данных'\n",
        "* 'ML' (здесь не нужно брать вакансии по HTML)\n",
        "* 'machine learning'\n",
        "* 'машинн%обучен%'\n",
        "\n",
        "** В следующих заданиях мы продолжим работать с вакансиями по этому условию.*\n",
        "\n",
        "Считаем вакансиями для специалистов уровня Junior следующие:\n",
        "* в названии есть слово 'junior' *или*\n",
        "* требуемый опыт — Нет опыта *или*\n",
        "* тип трудоустройства — Стажировка.\n",
        " "
      ]
    },
    {
      "cell_type": "code",
      "execution_count": 106,
      "id": "9c61b3c0-bb66-46c9-ae1e-81d3f5752b4a",
      "metadata": {
        "id": "9c61b3c0-bb66-46c9-ae1e-81d3f5752b4a"
      },
      "outputs": [],
      "source": [
        "# текст запроса\n",
        "query_6_2 = f''' \n",
        "\n",
        "    SELECT /*Запрос выводит количество вакансий для начинающего дата-сайентиста.*/\n",
        "        COUNT(DISTINCT id)\n",
        "    FROM \n",
        "        VACANCIES \n",
        "    WHERE (name ILIKE '%data scientist%' \n",
        "           OR name ILIKE '%data science%' \n",
        "           OR name ILIKE '%исследователь данных%' \n",
        "           OR name ILIKE '%машинн%обучен%%'\n",
        "           OR name ILIKE '%machine learning%'\n",
        "           OR (name LIKE '%ML%' \n",
        "               AND name NOT LIKE '%HTML%'))\n",
        "           AND (name ILIKE '%junior%' \n",
        "                OR experience ='Нет опыта'\n",
        "                OR schedule = 'Стажировка') \n",
        "        \n",
        "'''"
      ]
    },
    {
      "cell_type": "code",
      "execution_count": 107,
      "id": "ZNM-LLYuu1dj",
      "metadata": {
        "id": "ZNM-LLYuu1dj"
      },
      "outputs": [
        {
          "name": "stdout",
          "output_type": "stream",
          "text": [
            "Количество подходящих вакансий для начинающего дата-сайентиста: 51.\n"
          ]
        }
      ],
      "source": [
        "# результат запроса\n",
        "df = pd.read_sql_query(query_6_2, connection)\n",
        "print(f'Количество подходящих вакансий для начинающего дата-сайентиста: {df.iloc[0,0]}.')"
      ]
    },
    {
      "cell_type": "markdown",
      "id": "eedceb80-c5ca-480e-b27a-278dfb8b4438",
      "metadata": {
        "id": "eedceb80-c5ca-480e-b27a-278dfb8b4438"
      },
      "source": [
        "3. Сколько есть вакансий для DS, в которых в качестве ключевого навыка указан SQL или postgres?\n",
        "\n",
        "** Критерии для отнесения вакансии к DS указаны в предыдущем задании.*"
      ]
    },
    {
      "cell_type": "code",
      "execution_count": 108,
      "id": "69621713-0cc5-4f1b-a1d7-bb144fa6148c",
      "metadata": {
        "id": "69621713-0cc5-4f1b-a1d7-bb144fa6148c"
      },
      "outputs": [],
      "source": [
        "# текст запроса\n",
        "query_6_3 = f'''\n",
        "\n",
        "    /*Запрос выводит количество вакансий для DS, в которых в качестве ключевого навыка указан SQL или postgres*/\n",
        "    SELECT\n",
        "        count(id)\n",
        "    FROM  \n",
        "        VACANCIES \n",
        "    WHERE (name ILIKE '%data scientist%' \n",
        "        OR name ILIKE '%data science%' \n",
        "        OR name ILIKE '%исследователь данных%' \n",
        "        OR name ILIKE '%машинн%обучен%%'\n",
        "        OR name ILIKE '%machine learning%'\n",
        "        OR (name ILIKE '%ML%' AND name NOT LIKE '%HTML%' and name not like '%QML%'))\n",
        "    and (key_skills ILIKE'%SQL%' \n",
        "        OR key_skills ILIKE '%postgres%')\n",
        " \n",
        "'''"
      ]
    },
    {
      "cell_type": "code",
      "execution_count": 109,
      "id": "599555b5",
      "metadata": {},
      "outputs": [
        {
          "name": "stdout",
          "output_type": "stream",
          "text": [
            "Количество вакансий c ключевым навыком SQL или postgres: 229.\n"
          ]
        }
      ],
      "source": [
        "# результат запроса\n",
        "df = pd.read_sql_query(query_6_3, connection)\n",
        "df\n",
        "print(f'Количество вакансий c ключевым навыком SQL или postgres: {df.iloc[0,0]}.')"
      ]
    },
    {
      "cell_type": "markdown",
      "id": "1be1e9c6-37cf-4a5f-bfeb-04cab799dc80",
      "metadata": {
        "id": "1be1e9c6-37cf-4a5f-bfeb-04cab799dc80"
      },
      "source": [
        "4. Проверьте, насколько популярен Python в требованиях работодателей к DS.Для этого вычислите количество вакансий, в которых в качестве ключевого навыка указан Python.\n",
        "\n",
        "** Это можно сделать помощью запроса, аналогичного предыдущему.*"
      ]
    },
    {
      "cell_type": "code",
      "execution_count": 110,
      "id": "0036a355-9ccf-4564-8b01-73d8194297e7",
      "metadata": {
        "id": "0036a355-9ccf-4564-8b01-73d8194297e7"
      },
      "outputs": [],
      "source": [
        "# текст запроса\n",
        "query_6_4 = f'''\n",
        "\n",
        "    SELECT /*Запрос выводит количество вакансий c ключевым навыком Python.*/\n",
        "        count(id)\n",
        "    FROM  \n",
        "        VACANCIES \n",
        "    WHERE (name ILIKE '%data scientist%' \n",
        "        OR name ILIKE '%data science%' \n",
        "        OR name ILIKE '%исследователь данных%' \n",
        "        OR name ILIKE '%машинн%обучен%%'\n",
        "        OR name ILIKE '%machine learning%'\n",
        "        OR (name LIKE '%ML%' AND name NOT ILIKE '%HTML%' and name not Ilike '%QML%'))\n",
        "        AND key_skills ILIKE '%python%'\n",
        "    \n",
        "'''"
      ]
    },
    {
      "cell_type": "code",
      "execution_count": 111,
      "id": "1i-5WyucvQ6v",
      "metadata": {
        "id": "1i-5WyucvQ6v"
      },
      "outputs": [
        {
          "name": "stdout",
          "output_type": "stream",
          "text": [
            "Количество вакансий c ключевым навыком Python: 351.\n"
          ]
        }
      ],
      "source": [
        "# результат запроса\n",
        "df = pd.read_sql_query(query_6_4, connection)\n",
        "df\n",
        "print(f'Количество вакансий c ключевым навыком Python: {df.iloc[0,0]}.')"
      ]
    },
    {
      "cell_type": "markdown",
      "id": "ec3c8db7-fa21-4a41-a994-1af63742a642",
      "metadata": {
        "id": "ec3c8db7-fa21-4a41-a994-1af63742a642"
      },
      "source": [
        "5. Сколько ключевых навыков в среднем указывают в вакансиях для DS?\n",
        "Ответ округлите до двух знаков после точки-разделителя."
      ]
    },
    {
      "cell_type": "markdown",
      "id": "df46178e",
      "metadata": {},
      "source": [
        "\n",
        "Посчитать количество определённых символов в строке с помощью SQL можно следующим образом: из длины исходной строки вычесть длину строки, в которой все вхождения этого символа заменены на пустую строку ('').\n",
        "\n",
        "Ключевые навыки разделены символами табуляции. В SQL этот символ обозначается как CHR(9).\n",
        "\n",
        "22:58\n",
        "Если ключевые навыки не заполнены, то такую вакансию не рассматриваем для данного расчета, так как незаполненное поле ключевых навыков не равносильно тому, что у этой вакансии ноль ключевых навыков. Скорее всего они будут указаны в тексте вакансии."
      ]
    },
    {
      "cell_type": "code",
      "execution_count": 112,
      "id": "949132bc-d5b6-4611-8218-0b9a504d74f4",
      "metadata": {
        "id": "949132bc-d5b6-4611-8218-0b9a504d74f4"
      },
      "outputs": [],
      "source": [
        "# текст запроса\n",
        "query_6_5 = f'''\n",
        " \n",
        "    SELECT /*Запрос выводит среднее количество ключевых навыков в вакансиях для DS.*/    \n",
        "       round(avg(length(key_skills) - length(replace(key_skills, CHR(9), ''))+1), 2)\n",
        "    FROM  \n",
        "        VACANCIES \n",
        "    WHERE \n",
        "        (name ILIKE '%data scientist%' \n",
        "        OR name ILIKE '%data science%' \n",
        "        OR name ILIKE '%исследователь данных%' \n",
        "        OR name ILIKE '%машинн%обучен%%'\n",
        "        OR name ILIKE '%machine learning%'\n",
        "        OR (name LIKE '%ML%' AND name NOT LIKE '%HTML%'))\n",
        "        and key_skills IS NOT NULL \n",
        "        \n",
        "''' "
      ]
    },
    {
      "cell_type": "code",
      "execution_count": 113,
      "id": "a3V24Tvmviqk",
      "metadata": {
        "id": "a3V24Tvmviqk"
      },
      "outputs": [
        {
          "name": "stdout",
          "output_type": "stream",
          "text": [
            "В среднем в вакансиях для DS указывают ключевых навыков: 6.41.\n"
          ]
        }
      ],
      "source": [
        "# результат запроса\n",
        "df = pd.read_sql_query(query_6_5, connection)\n",
        "print(f'В среднем в вакансиях для DS указывают ключевых навыков: {df.iloc[0,0]}.')"
      ]
    },
    {
      "cell_type": "markdown",
      "id": "1041c17a-ca8f-4543-a0ca-32778914fb00",
      "metadata": {
        "id": "1041c17a-ca8f-4543-a0ca-32778914fb00"
      },
      "source": [
        "6. Напишите запрос, позволяющий вычислить, какую зарплату для DS в **среднем** указывают для каждого типа требуемого опыта (уникальное значение из поля *experience*). \n",
        "\n",
        "При решении задачи примите во внимание следующее:\n",
        "1. Рассматриваем только вакансии, у которых заполнено хотя бы одно из двух полей с зарплатой.\n",
        "2. Если заполнены оба поля с зарплатой, то считаем зарплату по каждой вакансии как сумму двух полей, делённую на 2. Если заполнено только одно из полей, то его и считаем зарплатой по вакансии.\n",
        "3. Если в расчётах участвует null, в результате он тоже даст null (посмотрите, что возвращает запрос select 1 + null). Чтобы избежать этой ситуацию, мы воспользуемся функцией [coalesce](https://postgrespro.ru/docs/postgresql/9.5/functions-conditional#functions-coalesce-nvl-ifnull), которая заменит null на значение, которое мы передадим. Например, посмотрите, что возвращает запрос `select 1 + coalesce(null, 0)`\n",
        "\n",
        "Выясните, на какую зарплату в среднем может рассчитывать дата-сайентист с опытом работы от 3 до 6 лет. Результат округлите до целого числа. "
      ]
    },
    {
      "cell_type": "code",
      "execution_count": 114,
      "id": "6a743d39-5204-48d3-8271-b9f88e68d40e",
      "metadata": {
        "id": "6a743d39-5204-48d3-8271-b9f88e68d40e"
      },
      "outputs": [],
      "source": [
        "# текст запроса\n",
        "query_6_6 = f'''\n",
        "    with x as /*Формируем таблицу с необходимым опытом работы, нижним и верхним уровкнем ЗП для дата-сайентиста*/\n",
        "        (\n",
        "        SELECT\n",
        "            experience,\n",
        "            salary_from,\n",
        "            salary_to\n",
        "        FROM\n",
        "            VACANCIES\n",
        "        WHERE \n",
        "            (name ILIKE '%data scientist%' \n",
        "            OR name ILIKE '%data science%' \n",
        "            OR name ILIKE '%исследователь данных%' \n",
        "            OR name ILIKE '%машинн%обучен%%'\n",
        "            OR name ILIKE '%machine learning%'\n",
        "            OR (name LIKE '%ML%' AND name NOT LIKE '%HTML%')) \n",
        "            AND (salary_from IS NOT NULL OR salary_to IS NOT NULL)\n",
        "        )\n",
        "    SELECT /*Запрос выводит усредненную ЗП для специалистов с опытом работы от 3 до 6 лет.*/   \n",
        "       experience,\n",
        "       ROUND(AVG((COALESCE(salary_from,salary_to)+COALESCE(salary_to,salary_from))/2))::int avg_salary\n",
        "    FROM x\n",
        "    WHERE experience = 'От 3 до 6 лет'\t\n",
        "    GROUP BY experience\n",
        "\n",
        "'''\n"
      ]
    },
    {
      "cell_type": "code",
      "execution_count": 115,
      "id": "aRIJ0mZEwU1_",
      "metadata": {
        "id": "aRIJ0mZEwU1_"
      },
      "outputs": [
        {
          "name": "stdout",
          "output_type": "stream",
          "text": [
            "Дата-сайентист с опытом работы от 3 до 6 лет может рассчитывать на зарплату: 243115 руб.\n"
          ]
        }
      ],
      "source": [
        "# результат запроса \n",
        "df = pd.read_sql_query(query_6_6, connection)\n",
        "print(f'Дата-сайентист с опытом работы от 3 до 6 лет может рассчитывать на зарплату: {df.iloc[0,1]} руб.')"
      ]
    },
    {
      "cell_type": "markdown",
      "id": "0f42382c",
      "metadata": {},
      "source": [
        "# Выводы по предметному анализу\n",
        "\n",
        "- Количество вакансий имеющих отношение к данным: 1771.\n",
        "\n",
        "- Количество подходящих вакансий для начинающего дата-сайентиста: 51. \n",
        "  Это можно объяснить тем что профессия довольно новая. \n",
        "\n",
        "- Количество вакансий c ключевым навыком SQL или postgres: 229. \n",
        "  Показывает востребованность умения работы с базами данных.\n",
        "  \n",
        "- Количество вакансий c ключевым навыком Python: 357. \n",
        "  Ввиду популярности языка для многих работодателей владение им является преимуществом (требуется предобработка информации). \n",
        "\n",
        "- В среднем в вакансиях для DS указывают ключевых навыков: 6.41. \n",
        "  Это указываем на желание работодателя получить специалиста с несколькими ключевыми навыками.\n",
        "\n",
        "- Усредненная зарплата начинающего дата-сайентиста с увеличением опыта работы может вырасти более чем в три раза и составить: 243115 руб."
      ]
    },
    {
      "cell_type": "markdown",
      "id": "9bb033dd",
      "metadata": {},
      "source": [
        "# Дополнительные исследования по проекту"
      ]
    },
    {
      "cell_type": "code",
      "execution_count": 116,
      "id": "2db8b068",
      "metadata": {},
      "outputs": [],
      "source": [
        "# Код для получения среднего количества ключевых навыков для начинающего дата-сайентиста.\n",
        "query_7_0 = f'''\n",
        " \n",
        "    SELECT /*Запрос выводит среднее количество ключевых навыков в вакансиях для DS.*/    \n",
        "       round(avg(length(key_skills) - length(replace(key_skills, CHR(9), ''))+1), 2)\n",
        "    FROM  \n",
        "        VACANCIES \n",
        "    WHERE \n",
        "        (name ILIKE '%data scientist%' \n",
        "        OR name ILIKE '%data science%' \n",
        "        OR name ILIKE '%исследователь данных%' \n",
        "        OR name ILIKE '%машинн%обучен%%'\n",
        "        OR name ILIKE '%machine learning%'\n",
        "        OR (name LIKE '%ML%' AND name NOT LIKE '%HTML%'))\n",
        "        AND key_skills IS NOT NULL    \n",
        "        AND (name ILIKE '%junior%' \n",
        "            OR experience ='Нет опыта'\n",
        "            OR schedule = 'Стажировка') \n",
        "            \n",
        "''' "
      ]
    },
    {
      "cell_type": "code",
      "execution_count": 117,
      "id": "35237f3e",
      "metadata": {},
      "outputs": [
        {
          "name": "stdout",
          "output_type": "stream",
          "text": [
            "Среднее количество ключевых навыков для начинающего дата-сайентиста: 7.27.\n"
          ]
        }
      ],
      "source": [
        "# результат запроса\n",
        "\n",
        "df = pd.read_sql_query(query_7_0, connection)\n",
        "print(f'Среднее количество ключевых навыков для начинающего дата-сайентиста: {df.iloc[0,0]}.')"
      ]
    },
    {
      "cell_type": "code",
      "execution_count": 118,
      "id": "d1ba0ba0",
      "metadata": {},
      "outputs": [],
      "source": [
        "# Количество работодателей у которых есть хотябы одна вакансия.\n",
        "query_7_1 = f'''\n",
        "\n",
        "select \n",
        "    count(distinct employer_id)\n",
        "from\n",
        "    VACANCIES\n",
        "    \n",
        "'''"
      ]
    },
    {
      "cell_type": "code",
      "execution_count": 119,
      "id": "7415f410",
      "metadata": {},
      "outputs": [
        {
          "name": "stdout",
          "output_type": "stream",
          "text": [
            "Количество работодателей у которых есть хотябы одна вакансия: 14906.\n",
            "Количество работодателей у которых есть хотябы одна вакансия: 63.43%.\n"
          ]
        }
      ],
      "source": [
        "# результат запроса\n",
        "df = pd.read_sql_query(query_7_1, connection)\n",
        "print(f'Количество работодателей у которых есть хотябы одна вакансия: {df.iloc[0,0]}.')\n",
        "print(f'Количество работодателей у которых есть хотябы одна вакансия: \\\n",
        "{round((df.iloc[0,0]/pd.read_sql_query(query_3_2, connection).iloc[0,0]*100),2)}%.')"
      ]
    },
    {
      "cell_type": "code",
      "execution_count": 120,
      "id": "4136afb1",
      "metadata": {},
      "outputs": [],
      "source": [
        "# Получаем количество работодателей у которых нет вакансий.\n",
        "query_7_2 = f'''\n",
        "    \n",
        "    SELECT\n",
        "        COUNT(id) - (select \n",
        "                        COUNT(distinct employer_id) \n",
        "                    FROM\n",
        "                        VACANCIES\n",
        "                    ) AS emp_without_vac\n",
        "    FROM\n",
        "        EMPLOYERS\n",
        "\n",
        "'''"
      ]
    },
    {
      "cell_type": "code",
      "execution_count": 121,
      "id": "1ee21a5c",
      "metadata": {},
      "outputs": [
        {
          "name": "stdout",
          "output_type": "stream",
          "text": [
            "Количество работодателей у которых нет вакансий: 8595.\n",
            "Количество работодателей у которых нет вакансий: 36.57%.\n"
          ]
        }
      ],
      "source": [
        "# результат запроса\n",
        "df = pd.read_sql_query(query_7_2, connection)\n",
        "print(f'Количество работодателей у которых нет вакансий: {df.iloc[0,0]}.')\n",
        "print(f'Количество работодателей у которых нет вакансий: \\\n",
        "{round((df.iloc[0,0]/pd.read_sql_query(query_3_2, connection).iloc[0,0]*100),2)}%.')"
      ]
    },
    {
      "cell_type": "code",
      "execution_count": 122,
      "id": "fa79b29e",
      "metadata": {},
      "outputs": [],
      "source": [
        "# Получаем количество работодателей не указывающих размер зарплаты.\n",
        "query_7_3 = f'''\n",
        "\n",
        "    SELECT \n",
        "        COUNT (distinct employer_id)    \n",
        "    FROM \n",
        "        VACANCIES \n",
        "    WHERE \n",
        "        salary_from IS NOT NULL AND salary_to IS NOT NULL\n",
        "\n",
        "'''"
      ]
    },
    {
      "cell_type": "code",
      "execution_count": 123,
      "id": "d04fb520",
      "metadata": {},
      "outputs": [
        {
          "name": "stdout",
          "output_type": "stream",
          "text": [
            "Количество работодателей не указывающих размер зарплаты: 5500.\n",
            "Доля работодателей не указывающих размер зарплаты: 23.4%.\n"
          ]
        }
      ],
      "source": [
        "# результат запроса\n",
        "df = pd.read_sql_query(query_7_3, connection)\n",
        "print(f'Количество работодателей не указывающих размер зарплаты: {df.iloc[0,0]}.')\n",
        "print(f'Доля работодателей не указывающих размер зарплаты: \\\n",
        "{round((df.iloc[0,0]/pd.read_sql_query(query_3_2, connection).iloc[0,0]*100),2)}%.')"
      ]
    },
    {
      "cell_type": "code",
      "execution_count": 124,
      "id": "8c36c8e9",
      "metadata": {},
      "outputs": [],
      "source": [
        "# Получаем количество вакансий с не указанным размером зарплаты\n",
        "query_7_4 = f'''\n",
        "\n",
        "    SELECT COUNT (id)    \n",
        "    FROM VACANCIES \n",
        "    WHERE salary_from IS NULL AND salary_to IS NULL\n",
        "\n",
        "'''\n"
      ]
    },
    {
      "cell_type": "code",
      "execution_count": 125,
      "id": "496dd3c5",
      "metadata": {},
      "outputs": [
        {
          "name": "stdout",
          "output_type": "stream",
          "text": [
            "Количество вакансий с не указанным размером зарплаты: 25124.\n",
            "Доля вакансий с не указанным размером зарплаты: 51.07%.\n"
          ]
        }
      ],
      "source": [
        "# результат запроса\n",
        "df = pd.read_sql_query(query_7_4, connection)\n",
        "print(f'Количество вакансий с не указанным размером зарплаты: {df.iloc[0,0]}.')\n",
        "print(f'Доля вакансий с не указанным размером зарплаты: \\\n",
        "{round((df.iloc[0,0]/pd.read_sql_query(query_3_1, connection).iloc[0,0]*100),2)}%.')"
      ]
    },
    {
      "cell_type": "code",
      "execution_count": 126,
      "id": "96bec52e",
      "metadata": {},
      "outputs": [],
      "source": [
        "# Количество работодателей зарегистрированных в наукоградах.\n",
        "science_city = []\n",
        "URL = 'https://ru.wikipedia.org/wiki/Наукограды_России'\n",
        "response = requests.get(URL)\n",
        "page = BeautifulSoup(response.text, 'html.parser')\n",
        "# получаем строку с тегом 'table' класс 'standard' содержащую всю информацию в таблице\n",
        "temp_str = str(page.find('table', class_='wikitable')).split('title=\"') \n",
        "# добавляем в список только названия городов\n",
        "for i in temp_str[1:]:\n",
        "    if 'область' in i or 'край' in i:\n",
        "        continue\n",
        "    temp = i.split('\">')[0].split(' ')[0]        \n",
        "    science_city.append(temp)\n",
        "    \n",
        "query_7_5 = f'''\n",
        "\n",
        "    SELECT /*Количество работодателей со сферой деятельности - Разработка программного обеспечения. */\n",
        "        COUNT(em.employer_id)\n",
        "    FROM EMPLOYERS e \n",
        "        left join AREAS a on e.area = a.id\n",
        "        LEFT JOIN EMPLOYERS_INDUSTRIES em ON e.id = em.employer_id\n",
        "        LEFT JOIN INDUSTRIES i ON i.id = em.industry_id \n",
        "    WHERE i.name = 'Разработка программного обеспечения' and a.name in {tuple(science_city)} \n",
        "      \n",
        "'''"
      ]
    },
    {
      "cell_type": "code",
      "execution_count": 127,
      "id": "10f5d8ff",
      "metadata": {},
      "outputs": [
        {
          "name": "stdout",
          "output_type": "stream",
          "text": [
            "В наукоградах присутствуют 1337 работодателя, со сферой деятельности - Разработка программного обеспечения.\n"
          ]
        }
      ],
      "source": [
        "df = pd.read_sql_query(query_7_5, connection)\n",
        "print(f'В наукоградах присутствуют {df.iloc[0,0]} работодателя, со сферой деятельности - Разработка программного обеспечения.')"
      ]
    },
    {
      "cell_type": "code",
      "execution_count": 128,
      "id": "0417512a",
      "metadata": {},
      "outputs": [],
      "source": [
        "# Формируем таблицу с работодателями отсортированных по общему количеству вакансий,\n",
        "# добавлены средняя ЗП по вакансиям работодателя, а также количество вакансий и \n",
        "# усредненная ЗП  в городах-миллионниках соответственно работодателю..\n",
        "\n",
        "list_m_city = []\n",
        "URL = 'https://ru.wikipedia.org/wiki/Города-миллионеры_России'\n",
        "response = requests.get(URL)\n",
        "page = BeautifulSoup(response.text, 'html.parser')\n",
        "# получаем строку с тегом 'table' класс 'standard' содержащую всю информацию в таблице\n",
        "temp_str = str(page.find('table', class_='standard')).split('title=\"') \n",
        "# добавляем в список только названия городов\n",
        "for i in temp_str[3:]:\n",
        "    temp = i.split('\">')[0]\n",
        "    list_m_city.append(temp)\n",
        "\n",
        "query_7_6 = f'''\n",
        "\n",
        "WITH temp AS\n",
        "(\n",
        "   WITH temp_table_one AS /*Запрос выдает название работодателя, его id, общее количество его вакансий и усредненную м,,,,,, */\n",
        "   (\n",
        "      SELECT \n",
        "         e.name AS company_name,\n",
        "         e.id AS id,\n",
        "         COUNT(v.id) AS total_vacancies,         \n",
        "         ROUND(AVG((COALESCE(salary_from,salary_to)+COALESCE(salary_to,salary_from))/2))::int avg_salary         \n",
        "      FROM VACANCIES v\n",
        "      JOIN EMPLOYERS e ON v.employer_id = e.id       \n",
        "      GROUP BY e.name, e.id\n",
        "   ),   \n",
        "   temp_table_two AS /*Запрос выдает количество вакансий и среднюю ЗП в городах-миллионерах*/\n",
        "   (\n",
        "      SELECT \n",
        "         e.id AS id,\n",
        "         COUNT(v.id) AS vacancies,\n",
        "         ROUND(AVG((COALESCE(salary_from,salary_to)+COALESCE(salary_to,salary_from))/2))::int avg_salary_m_city\n",
        "      FROM VACANCIES v\n",
        "      JOIN EMPLOYERS e ON v.employer_id = e.id\n",
        "      LEFT JOIN AREAS a ON v.area_id = a.id\n",
        "      WHERE a.name IN {tuple(list_m_city)}         \n",
        "      GROUP BY e.id\n",
        "   ) \n",
        "   SELECT \n",
        "      t1.company_name,\n",
        "      --t1.id,\n",
        "      t1.total_vacancies,\n",
        "      t1.avg_salary,   \n",
        "      t2.vacancies vacancies_m_city,\n",
        "      t2.avg_salary_m_city\n",
        "   FROM temp_table_one t1\n",
        "   LEFT JOIN temp_table_two t2 ON t1.id = t2.id   \n",
        ")\n",
        "\n",
        "select *\n",
        "from temp\n",
        "order by total_vacancies desc \n",
        "\n",
        "'''"
      ]
    },
    {
      "cell_type": "code",
      "execution_count": 129,
      "id": "efe50ac4",
      "metadata": {},
      "outputs": [
        {
          "data": {
            "text/html": [
              "<div>\n",
              "<style scoped>\n",
              "    .dataframe tbody tr th:only-of-type {\n",
              "        vertical-align: middle;\n",
              "    }\n",
              "\n",
              "    .dataframe tbody tr th {\n",
              "        vertical-align: top;\n",
              "    }\n",
              "\n",
              "    .dataframe thead th {\n",
              "        text-align: right;\n",
              "    }\n",
              "</style>\n",
              "<table border=\"1\" class=\"dataframe\">\n",
              "  <thead>\n",
              "    <tr style=\"text-align: right;\">\n",
              "      <th></th>\n",
              "      <th>company_name</th>\n",
              "      <th>total_vacancies</th>\n",
              "      <th>avg_salary</th>\n",
              "      <th>vacancies_m_city</th>\n",
              "      <th>avg_salary_m_city</th>\n",
              "    </tr>\n",
              "  </thead>\n",
              "  <tbody>\n",
              "    <tr>\n",
              "      <th>0</th>\n",
              "      <td>Яндекс</td>\n",
              "      <td>1933</td>\n",
              "      <td>25884.0</td>\n",
              "      <td>485.0</td>\n",
              "      <td>31702.0</td>\n",
              "    </tr>\n",
              "    <tr>\n",
              "      <th>1</th>\n",
              "      <td>Ростелеком</td>\n",
              "      <td>491</td>\n",
              "      <td>46980.0</td>\n",
              "      <td>214.0</td>\n",
              "      <td>56945.0</td>\n",
              "    </tr>\n",
              "    <tr>\n",
              "      <th>2</th>\n",
              "      <td>Тинькофф</td>\n",
              "      <td>444</td>\n",
              "      <td>50143.0</td>\n",
              "      <td>285.0</td>\n",
              "      <td>50167.0</td>\n",
              "    </tr>\n",
              "    <tr>\n",
              "      <th>3</th>\n",
              "      <td>СБЕР</td>\n",
              "      <td>428</td>\n",
              "      <td>153847.0</td>\n",
              "      <td>364.0</td>\n",
              "      <td>159099.0</td>\n",
              "    </tr>\n",
              "    <tr>\n",
              "      <th>4</th>\n",
              "      <td>Газпром нефть</td>\n",
              "      <td>331</td>\n",
              "      <td>56000.0</td>\n",
              "      <td>245.0</td>\n",
              "      <td>42000.0</td>\n",
              "    </tr>\n",
              "    <tr>\n",
              "      <th>5</th>\n",
              "      <td>ИК СИБИНТЕК</td>\n",
              "      <td>327</td>\n",
              "      <td>53434.0</td>\n",
              "      <td>147.0</td>\n",
              "      <td>60857.0</td>\n",
              "    </tr>\n",
              "    <tr>\n",
              "      <th>6</th>\n",
              "      <td>МТС</td>\n",
              "      <td>292</td>\n",
              "      <td>64521.0</td>\n",
              "      <td>231.0</td>\n",
              "      <td>67260.0</td>\n",
              "    </tr>\n",
              "    <tr>\n",
              "      <th>7</th>\n",
              "      <td>DataArt</td>\n",
              "      <td>247</td>\n",
              "      <td>NaN</td>\n",
              "      <td>NaN</td>\n",
              "      <td>NaN</td>\n",
              "    </tr>\n",
              "    <tr>\n",
              "      <th>8</th>\n",
              "      <td>Совкомбанк Технологии</td>\n",
              "      <td>204</td>\n",
              "      <td>42871.0</td>\n",
              "      <td>143.0</td>\n",
              "      <td>43125.0</td>\n",
              "    </tr>\n",
              "    <tr>\n",
              "      <th>9</th>\n",
              "      <td>Первый Бит</td>\n",
              "      <td>176</td>\n",
              "      <td>92324.0</td>\n",
              "      <td>104.0</td>\n",
              "      <td>90063.0</td>\n",
              "    </tr>\n",
              "  </tbody>\n",
              "</table>\n",
              "</div>"
            ],
            "text/plain": [
              "            company_name  total_vacancies  avg_salary  vacancies_m_city  \\\n",
              "0                 Яндекс             1933     25884.0             485.0   \n",
              "1             Ростелеком              491     46980.0             214.0   \n",
              "2               Тинькофф              444     50143.0             285.0   \n",
              "3                   СБЕР              428    153847.0             364.0   \n",
              "4          Газпром нефть              331     56000.0             245.0   \n",
              "5            ИК СИБИНТЕК              327     53434.0             147.0   \n",
              "6                    МТС              292     64521.0             231.0   \n",
              "7                DataArt              247         NaN               NaN   \n",
              "8  Совкомбанк Технологии              204     42871.0             143.0   \n",
              "9             Первый Бит              176     92324.0             104.0   \n",
              "\n",
              "   avg_salary_m_city  \n",
              "0            31702.0  \n",
              "1            56945.0  \n",
              "2            50167.0  \n",
              "3           159099.0  \n",
              "4            42000.0  \n",
              "5            60857.0  \n",
              "6            67260.0  \n",
              "7                NaN  \n",
              "8            43125.0  \n",
              "9            90063.0  "
            ]
          },
          "execution_count": 129,
          "metadata": {},
          "output_type": "execute_result"
        }
      ],
      "source": [
        "# результат запроса\n",
        "df = pd.read_sql_query(query_7_6, connection)\n",
        "df.head(10)\t"
      ]
    },
    {
      "cell_type": "markdown",
      "id": "93a63ef0",
      "metadata": {},
      "source": [
        "# Выводы из дополнительного исследования:\n",
        "- 5500 работодателей предпочитают не указывать размер зарплаты, их доля от общего числа работодателей составляет 23.4%;\n",
        "\n",
        "- 25124 вакансии размещены без указания размера зарплаты, их доля от общего числа составляет 51.07%;\n",
        "Это можно объяснить тем, что зарплата, в этом случае, определяется индивидуально на собеседовании исходя из комппетенций соискателя. \n",
        "\n",
        "- Количество работодателей у которых есть хотябы одна вакансия - 14906, что составляет 63.43% от общего числа.\n",
        "\n",
        "- По результату проведенного исследования видно что топ-10 компаний по количеству вакансий - крупные IT компании, банки и Газпром нефть. Значительная доля вакансий приходится на города-миллионники, исключая компанию DataArt, вакансии которой не имеющют привязки к региону.\n",
        "\n",
        "- Разработкой программного обеспечения занимаются: 3553 работодателя из которых 1337 pарегистрированны в наукоградах.\n",
        "  Этому видимо способствует налоговая политика, инфраструктура, господдержка и насыщеность рынка труда специалистами."
      ]
    },
    {
      "cell_type": "markdown",
      "id": "6a7892b4-4113-4746-adce-18aa2844f18e",
      "metadata": {
        "id": "6a7892b4-4113-4746-adce-18aa2844f18e"
      },
      "source": [
        "***"
      ]
    },
    {
      "cell_type": "markdown",
      "id": "28c4ec83",
      "metadata": {},
      "source": [
        "# Общий вывод по проекту"
      ]
    },
    {
      "cell_type": "markdown",
      "id": "ee20b09f",
      "metadata": {},
      "source": [
        "Из проведенного исследования можно заключить, что с ростом уровня компитенций соискателя, как и следовало ожидать, он может претендовать на более высокооплачиваемые вакансии. \n",
        "\n",
        "Работодатели, в основном, ищут кандидатов сопытом от 1 года до 3 лет (26152) и от 3 лет до 6 лет (14511) что говорит о востребованности этих специалистов на рынке труда. Кандидатов без опыта работы хотят привлечь с на меньшее количество вакансий -7197, что видимо обусловленно необхдимостью дополнительного обучения. Меньше всего вакансий для кандидатов сопытом от 6 лет - работодатели ищут высококлассных специалистов.\n",
        "\n",
        "Можно отметить, что для многих работодателей средний уровень зарплаты по вакансиям крупных городах выше усредненной общей зарплаты - видимо основные вакансии расположены в городах с развитой инфраструктурой и более высоким уровнем жизни где, для привлечения кандатов, требуется более высокий уровень оплаты труда.\n",
        "\n",
        "Начинающему дата-сайентистау необходимо освоить более 7.27 ключевых навыков для успешного прохождения собеседования, тогда как в общем ключевых навыков по профессии в среднем требуется 6.41. Видимо это говорит о том, что вакансии для более опытных соискателей проразумевают наличие \"базовых\" компетенций. \n",
        "\n",
        "Для дальнейшего анализа интересно посмотреть взаимосвязи в разрезе опыта, количестве ключевых навыков, уровня зарплаты по крупным IT команиям."
      ]
    }
  ],
  "metadata": {
    "colab": {
      "collapsed_sections": [
        "8d62a9f3-f64e-4fe7-bdac-c4dffa16155e"
      ],
      "provenance": []
    },
    "kernelspec": {
      "display_name": "Python 3 (ipykernel)",
      "language": "python",
      "name": "python3"
    },
    "language_info": {
      "codemirror_mode": {
        "name": "ipython",
        "version": 3
      },
      "file_extension": ".py",
      "mimetype": "text/x-python",
      "name": "python",
      "nbconvert_exporter": "python",
      "pygments_lexer": "ipython3",
      "version": "3.12.1"
    }
  },
  "nbformat": 4,
  "nbformat_minor": 5
}
